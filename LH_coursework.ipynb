{
 "cells": [
  {
   "cell_type": "markdown",
   "id": "793c8b24",
   "metadata": {},
   "source": [
    "# My Jupyter Notebook on IBM Watson Studio"
   ]
  },
  {
   "cell_type": "markdown",
   "id": "73c52c50",
   "metadata": {},
   "source": [
    "**Lily Hemmett**   \n",
    "Data Scientist"
   ]
  },
  {
   "cell_type": "markdown",
   "id": "8f499047",
   "metadata": {},
   "source": [
    "*I am interested in data science because I can find new and interesting ways solve existing problems. I can also tell the story of the data and present new information to stakeholders.* "
   ]
  },
  {
   "cell_type": "markdown",
   "id": "124c053c",
   "metadata": {},
   "source": [
    "### My code takes a number as an input of 10 and returns the number squared"
   ]
  },
  {
   "cell_type": "code",
   "execution_count": 1,
   "id": "e8345c20",
   "metadata": {},
   "outputs": [
    {
     "data": {
      "text/plain": [
       "100"
      ]
     },
     "execution_count": 1,
     "metadata": {},
     "output_type": "execute_result"
    }
   ],
   "source": [
    "x = 10\n",
    "x**2"
   ]
  },
  {
   "cell_type": "markdown",
   "id": "c3a05985",
   "metadata": {},
   "source": [
    "*** \n",
    "[Example of a hyperlink](https://www.coursera.org/learn/open-source-tools-for-data-science/peer/2pLEh/submit-your-work-and-grade-your-peers)\n",
    "***\n",
    "Example of a code snippet   \n",
    "`import pandas as pd`"
   ]
  }
 ],
 "metadata": {
  "kernelspec": {
   "display_name": "Python 3 (ipykernel)",
   "language": "python",
   "name": "python3"
  },
  "language_info": {
   "codemirror_mode": {
    "name": "ipython",
    "version": 3
   },
   "file_extension": ".py",
   "mimetype": "text/x-python",
   "name": "python",
   "nbconvert_exporter": "python",
   "pygments_lexer": "ipython3",
   "version": "3.9.7"
  }
 },
 "nbformat": 4,
 "nbformat_minor": 5
}
